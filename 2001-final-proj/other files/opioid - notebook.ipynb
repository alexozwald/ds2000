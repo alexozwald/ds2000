{
 "cells": [
  {
   "cell_type": "markdown",
   "id": "db3f0bcc",
   "metadata": {},
   "source": [
    "# Final Project:  Opioid Crisis in Massachusetts"
   ]
  },
  {
   "cell_type": "markdown",
   "id": "4e4c5320",
   "metadata": {},
   "source": [
    "We'll be evaluating the growth of the opioid crisis in Massachusetts.  Specifically, we'll be evaluating the impact of ............\n",
    "\n",
    "\n",
    "We hope to explore the growth of opioid distribution in Massachusetts over time, and link it to different markers in the fight against American opioid mass distribution to see how widespread opioid overprescription has become here. We need granular data to best explore this topic because of its complexity and obscured growth over time.  We plan to use two primary data sources to explore this…\n",
    "\n",
    "1. As part of a legal battle, the Washington Post obtained a copy of a database maintained by the Drug Enforcement Administration (DEA) that tracks the sale of every different pain pill from distributors to pharmacies by month with the amount of pills distributed between 2006–2012.\n",
    "\n",
    "2. We are also exploring the historical Medicaid State Drug Utilization Data (SDUD) published for Massachusetts between 1991–2021 to get a more expansive picture of how much it has grown outside of the more limited timeline of the Washington Post data.\n"
   ]
  },
  {
   "cell_type": "code",
   "execution_count": null,
   "id": "271ffc83-1bad-466a-b218-12dafe74e711",
   "metadata": {},
   "outputs": [],
   "source": []
  }
 ],
 "metadata": {
  "kernelspec": {
   "display_name": "Python 3 (ipykernel)",
   "language": "python",
   "name": "python3"
  },
  "language_info": {
   "codemirror_mode": {
    "name": "ipython",
    "version": 3
   },
   "file_extension": ".py",
   "mimetype": "text/x-python",
   "name": "python",
   "nbconvert_exporter": "python",
   "pygments_lexer": "ipython3",
   "version": "3.9.7"
  }
 },
 "nbformat": 4,
 "nbformat_minor": 5
}
