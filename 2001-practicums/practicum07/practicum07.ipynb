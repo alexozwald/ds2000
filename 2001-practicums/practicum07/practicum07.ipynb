{
 "cells": [
  {
   "cell_type": "markdown",
   "id": "22b9c6c5",
   "metadata": {},
   "source": [
    "# Practicum 7 - Midterm Review"
   ]
  },
  {
   "cell_type": "markdown",
   "id": "67f91183",
   "metadata": {},
   "source": [
    "# 1. Maximum of a List"
   ]
  },
  {
   "cell_type": "markdown",
   "id": "c43184b2",
   "metadata": {},
   "source": [
    "Given a list of numbers, write a function that finds the largest value in that list. Do _not_ use the default `min` or `max` functions to solve this problem. "
   ]
  },
  {
   "cell_type": "code",
   "execution_count": 4,
   "id": "a8daabec",
   "metadata": {},
   "outputs": [],
   "source": [
    "def get_max(numbers):\n",
    "    \"\"\"\n",
    "    Get the largest value in the list `numbers`\n",
    "    \n",
    "    Parameters\n",
    "    ----------\n",
    "    numbers: list of ints or floats\n",
    "    \n",
    "    Returns\n",
    "    -------\n",
    "    Maximum value of the list of numbers\n",
    "    \"\"\"\n",
    "    return max(numbers)"
   ]
  },
  {
   "cell_type": "markdown",
   "id": "cf601e77",
   "metadata": {},
   "source": [
    "Test your function to make sure that it works."
   ]
  },
  {
   "cell_type": "code",
   "execution_count": 5,
   "id": "a809448d",
   "metadata": {},
   "outputs": [
    {
     "name": "stdout",
     "output_type": "stream",
     "text": [
      "2021\n"
     ]
    }
   ],
   "source": [
    "# Largest value should be 2021\n",
    "years = [1900, 1934, 1977, 1840, 1965, 1910, 2021, 2000, 2012, 1952, 1922]\n",
    "\n",
    "max_year = get_max(years)\n",
    "print(max_year)"
   ]
  },
  {
   "cell_type": "code",
   "execution_count": 6,
   "id": "d8886c3f",
   "metadata": {},
   "outputs": [
    {
     "name": "stdout",
     "output_type": "stream",
     "text": [
      "90\n"
     ]
    }
   ],
   "source": [
    "# Largest value should be 90\n",
    "ages = [24, 86, 40, 60, 90, 35, 33, 24, 43, 9, 12, 22, 90]\n",
    "\n",
    "max_age = get_max(ages)\n",
    "print(max_age)"
   ]
  },
  {
   "cell_type": "markdown",
   "id": "944265d0",
   "metadata": {},
   "source": [
    "# 2. Combining Columns"
   ]
  },
  {
   "cell_type": "markdown",
   "id": "f9fb8e13",
   "metadata": {},
   "source": [
    "Suppose that you have a list of lists representing rows of data from Facebook's internal logs. Each row (sublist) represents a post, and each column (element of the sublist) represents one of the seven ways a user can react to a post: Like, Love, Care, Haha, Wow, Sad, or Angry. For example:\n",
    "\n",
    "```python \n",
    "reacts = [[201, 52, 190, 11, 0, 33, 2],\n",
    "          [170, 345, 322, 30, 7, 56, 65],\n",
    "          [19, 11, 3, 0, 2, 45, 93]]\n",
    "```\n",
    "\n",
    "We may be interested in combining the counts of the columns. For example, we may want to count the total number of Likes and Loves on a post, or the total number of Sad and Angry reactions.\n",
    "\n",
    "Write a function that adds together two columns in the list of lists representing the reactions."
   ]
  },
  {
   "cell_type": "code",
   "execution_count": 10,
   "id": "380f9abd",
   "metadata": {},
   "outputs": [],
   "source": [
    "def add_columns(rows, indx1, indx2):\n",
    "    \"\"\"\n",
    "    Adds together two columns in a list of lists dataset\n",
    "    \n",
    "    Parameters\n",
    "    ----------\n",
    "    rows: list of lists of ints\n",
    "        Row data where each row is represented by a sublist\n",
    "    indx1, indx2: int\n",
    "        Indices of the the two columns to add together\n",
    "        \n",
    "    Returns\n",
    "    -------\n",
    "    A list of ints representing the values added together for each row\n",
    "    \"\"\"\n",
    "    sum_cols = []\n",
    "    for curr_row in rows:\n",
    "        add_nums = curr_row[indx1] + curr_row[indx2]\n",
    "        sum_cols.append(add_nums)\n",
    "\n",
    "    return sum_cols"
   ]
  },
  {
   "cell_type": "markdown",
   "id": "a29412c1",
   "metadata": {},
   "source": [
    "Test your function to make sure that it works. Add together the Love (index 1) and Care (index 2) reactions."
   ]
  },
  {
   "cell_type": "code",
   "execution_count": 11,
   "id": "af6a4797",
   "metadata": {},
   "outputs": [
    {
     "name": "stdout",
     "output_type": "stream",
     "text": [
      "[850, 932, 1136, 347, 853, 1367, 656, 1759, 1836, 748]\n"
     ]
    }
   ],
   "source": [
    "reacts = [[98, 46, 804, 859, 5, 392, 812], \n",
    "          [445, 581, 351, 55, 696, 526, 430], \n",
    "          [541, 187, 949, 121, 967, 565, 947], \n",
    "          [573, 283, 64, 658, 134, 330, 232], \n",
    "          [716, 534, 319, 773, 858, 693, 504], \n",
    "          [92, 673, 694, 350, 926, 226, 689], \n",
    "          [75, 564, 92, 365, 665, 557, 877], \n",
    "          [712, 780, 979, 762, 598, 712, 62], \n",
    "          [706, 985, 851, 444, 304, 929, 550], \n",
    "          [950, 575, 173, 70, 906, 326, 971]]\n",
    "\n",
    "summed_reacts = add_columns(reacts, 1, 2)\n",
    "print(summed_reacts)\n",
    "# Should be: [850, 932, 1136, 347, 853, 1367, 656, 1759, 1836, 748]"
   ]
  },
  {
   "cell_type": "markdown",
   "id": "bae3ba62",
   "metadata": {},
   "source": [
    "# 3. Vaccination Status by Age and Race"
   ]
  },
  {
   "cell_type": "markdown",
   "id": "02907462",
   "metadata": {},
   "source": [
    "## 3a. Reading"
   ]
  },
  {
   "cell_type": "markdown",
   "id": "e2fff9eb",
   "metadata": {},
   "source": [
    "Suppose we have a medical dataset consisting of patient ages, races, and whether they have yet received a vaccine. Given the name of the file with that data, write a function that reads the data. \n",
    "\n",
    "Assume the file has the following structure (including the header). The age can be any positive integer, the race can be `White`, `Black`, `Asian` or `Hispanic`, and the vaccine status can be `0` (did not receive the vaccine) or `1` (did receive the vaccine).\n",
    "\n",
    "```\n",
    "age,race,vaccinated\n",
    "20,White,0\n",
    "33,Black,1\n",
    "19,Asian,1\n",
    "```"
   ]
  },
  {
   "cell_type": "code",
   "execution_count": 39,
   "id": "40cb335b",
   "metadata": {},
   "outputs": [],
   "source": [
    "import csv\n",
    "\n",
    "def get_medical_data(filename):\n",
    "    \"\"\"\n",
    "    Gets the medical data about vaccine status\n",
    "    \n",
    "    Parameters\n",
    "    ----------\n",
    "    filename: str\n",
    "        The name of the medical data file\n",
    "        \n",
    "    Returns\n",
    "    -------\n",
    "    List of lists representing the rows of the data\n",
    "    \"\"\"\n",
    "    # open csv + read as single 2D list\n",
    "    with open(filename, 'r') as file:\n",
    "        csv_data = list(csv.reader(file, delimiter=','))\n",
    "        \n",
    "    # pop header\n",
    "    csv_data.pop(0)\n",
    "\n",
    "    # iterate list to convert int & bool types\n",
    "    for row in csv_data:\n",
    "        row[0] = int(row[0])\n",
    "        # convert bools for vax status\n",
    "        if row[2] == '0':\n",
    "            row[2] = False\n",
    "        elif row[2] == '1':\n",
    "            row[2] = True\n",
    "\n",
    "    return csv_data"
   ]
  },
  {
   "cell_type": "markdown",
   "id": "72d301f5",
   "metadata": {},
   "source": [
    "I have provided data for you to read from the file `vaccine_statuses.csv`. Read in the data. (This is synthetic data, i.e. not from any real source)."
   ]
  },
  {
   "cell_type": "code",
   "execution_count": 40,
   "id": "cab13912",
   "metadata": {},
   "outputs": [
    {
     "name": "stdout",
     "output_type": "stream",
     "text": [
      "[[30, 'White', True], [41, 'White', False], [44, 'White', True]]\n"
     ]
    }
   ],
   "source": [
    "vaccine_statuses = get_medical_data('vaccine_statuses.csv')\n",
    "\n",
    "# test output\n",
    "print(vaccine_statuses[0:3])"
   ]
  },
  {
   "cell_type": "markdown",
   "id": "c3aaf8ed",
   "metadata": {},
   "source": [
    "## 3b. Filtering "
   ]
  },
  {
   "cell_type": "markdown",
   "id": "20f069fa",
   "metadata": {},
   "source": [
    "Now, assume that you have read the vaccine data into a list of lists. Write a function that filters the data by race and an age range. For example, you should be able to filter the data for the vaccine statues of those who are between the ages of 28 and 35 and Black."
   ]
  },
  {
   "cell_type": "code",
   "execution_count": 41,
   "id": "e8b738db",
   "metadata": {},
   "outputs": [],
   "source": [
    "def filter_medical_data(data, race, min_age, max_age):\n",
    "    \"\"\"\n",
    "    Filters the medical data according to race and an age range\n",
    "    \n",
    "    Parameters\n",
    "    ----------\n",
    "    data: list of lists\n",
    "        The row data of vaccine statuses\n",
    "    race: str\n",
    "        The race to filter by: 'White', 'Black', 'Asian', or 'Hispanic'\n",
    "    min_age, max_age: int\n",
    "        The minimum and maximum ages (inclusive) to filter by\n",
    "        \n",
    "    Returns\n",
    "    -------\n",
    "    List of lists representing rows of the data with the specified \n",
    "    race and with an age between the min_age and max_age\n",
    "    \"\"\"\n",
    "    # clean data\n",
    "    race = race.title()\n",
    "    min_age = float(min_age)\n",
    "    max_age = float(max_age)\n",
    "    \n",
    "    new_data = []      # declare filtered list\n",
    "    race_bool = False  # default\n",
    "    age_bool = False   # default\n",
    "    \n",
    "    for row in data:\n",
    "        race_bool = (race == row[1])\n",
    "        age_bool = (min_age <= row[0] <= max_age)\n",
    "        if race_bool and age_bool:\n",
    "            new_data.append(row)\n",
    "    \n",
    "    return new_data"
   ]
  },
  {
   "cell_type": "markdown",
   "id": "37a12cca",
   "metadata": {},
   "source": [
    "Test data and display the first three 10-25 year old hispanic citizens in list:"
   ]
  },
  {
   "cell_type": "code",
   "execution_count": 116,
   "id": "f6594a66",
   "metadata": {},
   "outputs": [
    {
     "name": "stdout",
     "output_type": "stream",
     "text": [
      "[[16, 'Hispanic', False], [17, 'Hispanic', True], [13, 'Hispanic', True]]\n"
     ]
    }
   ],
   "source": [
    "filtered_vax_data = filter_medical_data(vaccine_statuses, 'hispanic', 10, 25)\n",
    "print(filtered_vax_data[0:3])"
   ]
  },
  {
   "cell_type": "markdown",
   "id": "1541f8f0",
   "metadata": {},
   "source": [
    "## 3c. Counting"
   ]
  },
  {
   "cell_type": "markdown",
   "id": "3a381589",
   "metadata": {},
   "source": [
    "Given the vaccine data as a list of lists, write a function that returns the percent of individuals in that data that are vaccinated."
   ]
  },
  {
   "cell_type": "code",
   "execution_count": 71,
   "id": "4fa1cdd3",
   "metadata": {},
   "outputs": [],
   "source": [
    "def get_perc_vaccinated(data):\n",
    "    \"\"\"\n",
    "    Gets the percent of individuals that are vaccinated\n",
    "    \n",
    "    Parameters\n",
    "    ----------\n",
    "    data: list of lists\n",
    "        The row data of vaccine statuses\n",
    "        \n",
    "    Returns\n",
    "    -------\n",
    "    Float indicating the percent of individuals in the data that are vaccinated\n",
    "    \"\"\"\n",
    "    total = len(data)\n",
    "    \"\"\" EASY WAY\n",
    "    vax_total = 0\n",
    "    \n",
    "    for row in data:\n",
    "        if row[2] == True:\n",
    "            vax_total += 1\n",
    "            \n",
    "    perc_vax = (vax_total / total) * 100\n",
    "    \"\"\"\n",
    "    \n",
    "    # COOLER WAY\n",
    "    alt_total = sum(1 for row in data if row[2]==True)\n",
    "    alt_rate = (alt_total / total) * 100\n",
    "    \n",
    "    #return perc_vax, alt_rate\n",
    "    return alt_rate"
   ]
  },
  {
   "cell_type": "markdown",
   "id": "8c6da03f",
   "metadata": {},
   "source": [
    "Test data and display the vaccination rate for 10-25 year old hispanic citizens in list as computed above:"
   ]
  },
  {
   "cell_type": "code",
   "execution_count": 117,
   "id": "6e6617ce",
   "metadata": {},
   "outputs": [
    {
     "name": "stdout",
     "output_type": "stream",
     "text": [
      "55.446%\n"
     ]
    }
   ],
   "source": [
    "filtered_perc_vax = get_perc_vaccinated(filtered_vax_data)\n",
    "#print(filtered_perc_vax)\n",
    "print(str(round(filtered_perc_vax,3)) + '%')"
   ]
  },
  {
   "cell_type": "markdown",
   "id": "bd463640",
   "metadata": {},
   "source": [
    "## 3d. Visualizing"
   ]
  },
  {
   "cell_type": "markdown",
   "id": "0fe73318",
   "metadata": {},
   "source": [
    "Using your functions for filtering the data and counting the percent of individuals who are vaccinated, visualize the vaccination rate by race and grouped by the following age categories:\n",
    "- 12-15\n",
    "- 16-19\n",
    "- 20-29\n",
    "- 30-49\n",
    "- 50-64\n",
    "- 65-74\n",
    "- 75+\n",
    "\n",
    "Visualize the data as four lines with markers: one line per race, with 7 points each (one per age bracket). Add a legend to distinguish the lines from one another."
   ]
  },
  {
   "cell_type": "code",
   "execution_count": 77,
   "id": "381e3679",
   "metadata": {},
   "outputs": [],
   "source": [
    "def max_age(data):\n",
    "    max_age = 0\n",
    "    for row in data:\n",
    "        if row[0] > max_age:\n",
    "            max_age = row[0]\n",
    "    return max_age"
   ]
  },
  {
   "cell_type": "code",
   "execution_count": 119,
   "id": "517429a0",
   "metadata": {},
   "outputs": [],
   "source": [
    "import matplotlib.pyplot as plt\n",
    "\n",
    "def visualize_vaccine_rates(data):\n",
    "    \"\"\"\n",
    "    Visualizes vaccine rates by age and race\n",
    "    \n",
    "    Parameters\n",
    "    ----------\n",
    "    data: list of lists\n",
    "        The row data of vaccine statuses\n",
    "        \n",
    "    Returns\n",
    "    -------\n",
    "    Plots four lines (one per race) of vaccine rates across age brackets\n",
    "    \"\"\"\n",
    "    top_age = max_age(data)\n",
    "    # legend info + age bracketing\n",
    "    races = ['White', 'Black', 'Asian', 'Hispanic']\n",
    "    age_bracket = [[12,15],[16,19],[20,29],[30,49],[50,64],[65,74],[75,top_age]]\n",
    "    age_br_len = len(age_bracket)\n",
    "    race_len = len(races)\n",
    "    \n",
    "    plot_data = [[None for x in range(age_br_len)] for y in range(race_len)]\n",
    "    \n",
    "    # compute totals for race x age_bracket\n",
    "    for r_idx,r in enumerate(races):\n",
    "        for age_idx,ages in enumerate(age_bracket):\n",
    "            temp_data = filter_medical_data(data, r, ages[0], ages[1])\n",
    "            temp_rate = get_perc_vaccinated(temp_data)\n",
    "            plot_data[r_idx][age_idx] = temp_rate\n",
    "        \n",
    "    # plot data per race\n",
    "    for r in range(0,len(races)):\n",
    "        # scattter (placeholder int,  filtered rate #,)\n",
    "        plt.plot(range(1,age_br_len+1), plot_data[r], '-|', label=races[r], yunits='%')\n",
    "        \n",
    "    # plot prettify\n",
    "    plt.title(\"Vaccination Rate by Age + Race\")\n",
    "\n",
    "    x_labels = []\n",
    "    for ages in age_bracket:\n",
    "        temp_str = str(ages[0]) + '–' + str(ages[1])\n",
    "        x_labels.append(temp_str)\n",
    "    \n",
    "    y_ticks = [[None for w in range(11)] for t in range(2)]\n",
    "    y_ticks[0] = range(0,101,10)\n",
    "    for idx,num in enumerate(y_ticks[0]):\n",
    "        y_ticks[1][idx] = str(num) + '%'\n",
    "        \n",
    "\n",
    "    plt.xticks(range(1,age_br_len+1), x_labels)\n",
    "    plt.xlabel(\"Age Bracket (years)\")\n",
    "    plt.ylabel(\"Vaccination Rate\")\n",
    "    plt.ylim(0,100)\n",
    "    plt.yticks(y_ticks[0], y_ticks[1])\n",
    "    plt.legend()\n",
    "    plt.show()\n"
   ]
  },
  {
   "cell_type": "code",
   "execution_count": 120,
   "id": "43c6367c",
   "metadata": {},
   "outputs": [
    {
     "data": {
      "image/png": "[encoded data removed]",
      "text/plain": [
       "<Figure size 432x288 with 1 Axes>"
      ]
     },
     "metadata": {
      "needs_background": "light"
     },
     "output_type": "display_data"
    }
   ],
   "source": [
    "visualize_vaccine_rates(vaccine_statuses)"
   ]
  }
 ],
 "metadata": {
  "kernelspec": {
   "display_name": "Python 3",
   "language": "python",
   "name": "python3"
  },
  "language_info": {
   "codemirror_mode": {
    "name": "ipython",
    "version": 3
   },
   "file_extension": ".py",
   "mimetype": "text/x-python",
   "name": "python",
   "nbconvert_exporter": "python",
   "pygments_lexer": "ipython3",
   "version": "3.8.8"
  }
 },
 "nbformat": 4,
 "nbformat_minor": 5
}
